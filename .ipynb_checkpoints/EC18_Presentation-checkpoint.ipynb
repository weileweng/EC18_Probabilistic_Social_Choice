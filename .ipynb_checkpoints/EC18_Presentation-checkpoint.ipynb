{
 "cells": [
  {
   "cell_type": "code",
   "execution_count": 1,
   "metadata": {
    "slideshow": {
     "slide_type": "notes"
    }
   },
   "outputs": [],
   "source": [
    "import numpy as np\n",
    "from rules import avg\n",
    "from cake import show_cake\n",
    "import matplotlib.pyplot as plt\n",
    "%matplotlib inline"
   ]
  },
  {
   "cell_type": "markdown",
   "metadata": {
    "slideshow": {
     "slide_type": "slide"
    }
   },
   "source": [
    "# A Probabilistic Model of Social Choice\n",
    "## Weile Weng\n",
    "<br> Department of Mathematics, TUM \n",
    "<br> Seminar Economics and Computation \n",
    "<br><br>\n",
    "08 June 2018\n",
    "\n",
    "<br> **Literature**: Peter C. Fishburn. A probabilistic model of social choice: Comment. *The Review of Economic Studies*, 42(2):297{301, 1975."
   ]
  },
  {
   "cell_type": "markdown",
   "metadata": {
    "slideshow": {
     "slide_type": "slide"
    }
   },
   "source": [
    "Imagine there is a housewarming party tonight. You all are invited.  Now you planned to buy a three-layered cake to bring to the party. You have three options: **strawberry** cake, **vanilla** cake and **chocolate** cake. \n",
    "<br><br> \n",
    "**How woud you choose?**"
   ]
  },
  {
   "cell_type": "markdown",
   "metadata": {
    "slideshow": {
     "slide_type": "slide"
    }
   },
   "source": [
    "## Model"
   ]
  },
  {
   "cell_type": "markdown",
   "metadata": {
    "slideshow": {
     "slide_type": "fragment"
    }
   },
   "source": [
    "- **individuals**: $i= 1,2,..m$\n",
    "- **alternatives**: $j=1, 2, .., n$, labeled as $A_1, A_2, ..., A_n$"
   ]
  },
  {
   "cell_type": "markdown",
   "metadata": {
    "slideshow": {
     "slide_type": "subslide"
    }
   },
   "source": [
    "- **probability vector space**: $P= \\{(p_1,.., p_n) \\in [0,1]^n: \\sum_{j\\in[n]} p_{j} =1\\}$"
   ]
  },
  {
   "cell_type": "markdown",
   "metadata": {
    "slideshow": {
     "slide_type": "fragment"
    }
   },
   "source": [
    "- $i$-th **individual probability vector**: $q_i = (q_{i1},..., q_{in}) \\in P$\n",
    "- **probability matrix**: $Q = (q_{ij})_{i \\in [m], j \\in [n]} \\in P^m$ "
   ]
  },
  {
   "cell_type": "markdown",
   "metadata": {
    "slideshow": {
     "slide_type": "fragment"
    }
   },
   "source": [
    "Example:\n",
    "\\begin{equation*}\n",
    "\\mathbf{Q}= \\begin{pmatrix}\n",
    "0.6 & 0.4 & 0\\\\\n",
    "0.6 &  0.4& 0 \\\\\n",
    "0 & 0.4 & 0.6\n",
    "\\end{pmatrix}\n",
    "\\end{equation*}\n"
   ]
  },
  {
   "cell_type": "markdown",
   "metadata": {
    "slideshow": {
     "slide_type": "subslide"
    }
   },
   "source": [
    "- **social probability vector**: $p = (p_{1},..., p_{n}) \\in P $"
   ]
  },
  {
   "cell_type": "markdown",
   "metadata": {
    "slideshow": {
     "slide_type": "slide"
    }
   },
   "source": [
    "## Interpretation"
   ]
  },
  {
   "cell_type": "markdown",
   "metadata": {
    "slideshow": {
     "slide_type": "fragment"
    }
   },
   "source": [
    "#### Preference relation"
   ]
  },
  {
   "cell_type": "markdown",
   "metadata": {
    "slideshow": {
     "slide_type": "fragment"
    }
   },
   "source": [
    "- for individual $i$: <br> $A_j \\succ_{\\scriptscriptstyle {i}} A_k$ iff.  $q_{ij}>q_{ik} $ <br> $A_j \\sim_{\\scriptscriptstyle {i}} A_k$ iff.  $q_{ij}=q_{ik} $"
   ]
  },
  {
   "cell_type": "markdown",
   "metadata": {
    "slideshow": {
     "slide_type": "fragment"
    }
   },
   "source": [
    "- for the society: <br>  $A_j \\succ A_k$ iff. $ p_{j}>p_{k}$ <br>$A_j {\\sim} A_k$ iff. $p_{j}=p_{k}$"
   ]
  },
  {
   "cell_type": "markdown",
   "metadata": {
    "slideshow": {
     "slide_type": "subslide"
    }
   },
   "source": [
    "#### Social choie\n",
    "The social choice is a random output from the distribution given by the social probability vector."
   ]
  },
  {
   "cell_type": "markdown",
   "metadata": {
    "slideshow": {
     "slide_type": "slide"
    }
   },
   "source": [
    "## Interest\n",
    "**social probability function** $f: P^m  \\rightarrow P, Q \\mapsto f(Q)$"
   ]
  },
  {
   "cell_type": "markdown",
   "metadata": {
    "slideshow": {
     "slide_type": "fragment"
    }
   },
   "source": [
    "find social probalbity function (or *rule*) $f$ that satisfies certain desired conditions."
   ]
  },
  {
   "cell_type": "markdown",
   "metadata": {
    "slideshow": {
     "slide_type": "slide"
    }
   },
   "source": [
    "## Axioms"
   ]
  },
  {
   "cell_type": "markdown",
   "metadata": {
    "slideshow": {
     "slide_type": "fragment"
    }
   },
   "source": [
    "#### 1. Existence of social probabilities\n",
    "$f$ is well-defined on $P^m$"
   ]
  },
  {
   "cell_type": "markdown",
   "metadata": {
    "slideshow": {
     "slide_type": "fragment"
    }
   },
   "source": [
    "#### 2. Unanimity preserving for a loser\n",
    "If all individuals reject an alternative with certainty so does society"
   ]
  },
  {
   "cell_type": "markdown",
   "metadata": {
    "slideshow": {
     "slide_type": "subslide"
    }
   },
   "source": [
    "#### 3. Independence\n",
    "The social probability of choosing one alternative depends only on the individual probabilities of choosing that alternative"
   ]
  },
  {
   "cell_type": "markdown",
   "metadata": {
    "slideshow": {
     "slide_type": "fragment"
    }
   },
   "source": [
    "#### 4. Strict and equal sensitivity to individual probabilities\n",
    "- an increase/decrease in the probability that any one individual will choose a particular alternative always increases/decreases the probability that society will choose this alternative."
   ]
  },
  {
   "cell_type": "markdown",
   "metadata": {
    "slideshow": {
     "slide_type": "fragment"
    }
   },
   "source": [
    "- equal changes in probabilities by different individuals lead to equal changes in social probabilities."
   ]
  },
  {
   "cell_type": "markdown",
   "metadata": {
    "slideshow": {
     "slide_type": "slide"
    }
   },
   "source": [
    "## Theorem\n",
    "Axiom (1)-(4) determine an unique rule, referred to as **the average rule**\n",
    "<br><br>\n",
    "\\begin{equation}\n",
    "    p_j = \\frac{1}{m} \\sum_{i\\in[m]}{q_{ij}}, \\text{ for all } j,\n",
    "\\end{equation}"
   ]
  },
  {
   "cell_type": "markdown",
   "metadata": {
    "slideshow": {
     "slide_type": "fragment"
    }
   },
   "source": [
    "i.e. $f(Q)= \\boldsymbol{1}/m \\cdot Q$  , with $\\boldsymbol{1}$ the $1$'s (row) vector of size $m$ . "
   ]
  },
  {
   "cell_type": "markdown",
   "metadata": {
    "slideshow": {
     "slide_type": "fragment"
    }
   },
   "source": [
    "### Proof: see flipchart. "
   ]
  },
  {
   "cell_type": "markdown",
   "metadata": {
    "slideshow": {
     "slide_type": "slide"
    }
   },
   "source": [
    "### Quiz 1:\n",
    "Can you give an example that is not average rule but satisfies all axioms except *independence*?"
   ]
  },
  {
   "cell_type": "markdown",
   "metadata": {
    "slideshow": {
     "slide_type": "fragment"
    }
   },
   "source": [
    "Recall: the other three axioms\n",
    "- Existence of social probabilities\n",
    "- Unanimity preserving for a loser\n",
    "- Strict and equal sensitivity to individual probabilities"
   ]
  },
  {
   "cell_type": "markdown",
   "metadata": {
    "slideshow": {
     "slide_type": "subslide"
    }
   },
   "source": [
    "**Answer**:\n",
    "$c: [n] \\rightarrow [0,1], j \\mapsto c(j)=c_j$ , with $c$ not constant\n",
    "<br><br>\n",
    "$p_j^\\prime = c_j \\sum_{i\\in[m]}{q_{ij}}$, then normalized to obtain $p_j$"
   ]
  },
  {
   "cell_type": "markdown",
   "metadata": {
    "slideshow": {
     "slide_type": "slide"
    }
   },
   "source": [
    "## Some rival rules "
   ]
  },
  {
   "cell_type": "markdown",
   "metadata": {
    "slideshow": {
     "slide_type": "fragment"
    }
   },
   "source": [
    "### A.  Majority rule\n",
    "An alternative is chosen with certainty if a majority prefers it to any other alternative.\n",
    "\n"
   ]
  },
  {
   "cell_type": "markdown",
   "metadata": {
    "slideshow": {
     "slide_type": "fragment"
    }
   },
   "source": [
    "if $\\exists$ unique $j\\in [n]$, s.t. $ \\forall s\\in [n]: |\\{i \\in [m]: p_{ij} > p_{is}\\}| > |\\{i \\in [m]: p_{ij} \\leq p_{is}\\}|$, then $p_j=1$."
   ]
  },
  {
   "cell_type": "markdown",
   "metadata": {
    "slideshow": {
     "slide_type": "subslide"
    }
   },
   "source": [
    "### B.  Borda rule\n",
    "An alternative is chosen with certainty if it is the alternative with the highest probability using the average rule.\n",
    "\n"
   ]
  },
  {
   "cell_type": "markdown",
   "metadata": {
    "slideshow": {
     "slide_type": "fragment"
    }
   },
   "source": [
    "$J:=\\{\\underset{j\\in[n]}{\\text{argmax}} \\text{ } p_j\\}$. If $J=\\{s\\}$ for some $s$, then $p_s=1$."
   ]
  },
  {
   "cell_type": "markdown",
   "metadata": {
    "slideshow": {
     "slide_type": "subslide"
    }
   },
   "source": [
    "### C. Pareto rule\n",
    "An alternative is chosen with certainty if it dominates all other alternatives in the sense of Pareto, where alternative $A_j$ dominates alternative $A_k$ in the sense of Pareto. "
   ]
  },
  {
   "cell_type": "markdown",
   "metadata": {
    "slideshow": {
     "slide_type": "fragment"
    }
   },
   "source": [
    "$A_j\\underset{pareto} {\\succ} A_s \\iff A_j \\succeq_{\\scriptscriptstyle{i}}$ for all $i$ and $A_j\\succ_{\\scriptscriptstyle{i_0}} A_k$ for some $i_0$."
   ]
  },
  {
   "cell_type": "markdown",
   "metadata": {
    "slideshow": {
     "slide_type": "subslide"
    }
   },
   "source": [
    "### D. Intersection rule\n",
    "An alternative is chosen with certainty if it is the first choice of all individuals."
   ]
  },
  {
   "cell_type": "markdown",
   "metadata": {
    "slideshow": {
     "slide_type": "fragment"
    }
   },
   "source": [
    "$J_i:=\\{\\underset{j\\in[n]}{\\text{argmax}} \\text{ } q_{ij}\\}$. \n",
    "<br> If $\\exists s\\in[n]$, s.t. $\\forall J_i= \\{s\\}$ for all $i$, then $p_s=1$. "
   ]
  },
  {
   "cell_type": "markdown",
   "metadata": {
    "slideshow": {
     "slide_type": "subslide"
    }
   },
   "source": [
    "Above rules are not well-defined on $P^m$ in the sense that to some probability matrix there does not exist corresponding social probability vector."
   ]
  },
  {
   "cell_type": "markdown",
   "metadata": {
    "slideshow": {
     "slide_type": "subslide"
    }
   },
   "source": [
    "### Majority rule (modified) \n",
    "- if there are multiple alternatives that a majority prefers to all others, each of them receives equal social probability. \n",
    "- if no such alternative exists, every alternative receives equal social probability."
   ]
  },
  {
   "cell_type": "markdown",
   "metadata": {
    "slideshow": {
     "slide_type": "subslide"
    }
   },
   "source": [
    "### Borda rule (modified)\n",
    "- if there are multiple alternatives of maximum social probability, each alternative receives equal probability."
   ]
  },
  {
   "cell_type": "markdown",
   "metadata": {
    "slideshow": {
     "slide_type": "subslide"
    }
   },
   "source": [
    "### Pareto rule (modified)\n",
    "- if there does not exist one alternative that Pareto-dominates all other alternatives, then every alternative that is not Pareto-dominated by any other alternative receives equal social probability. "
   ]
  },
  {
   "cell_type": "markdown",
   "metadata": {
    "slideshow": {
     "slide_type": "subslide"
    }
   },
   "source": [
    "### Intersection rule (modified)\n",
    "- all alternatives in the lowest numbered non-empty social choice set receive equal social probability."
   ]
  },
  {
   "cell_type": "markdown",
   "metadata": {
    "slideshow": {
     "slide_type": "fragment"
    }
   },
   "source": [
    "let $J^{(r)}_i$ be the first $r$ favorite alternatives of individual $i$, and \n",
    "<br> the $r$-th social choice set $C^{(r)}:= \\underset{i\\in[m]}{\\bigcap} J^{(r)}_i$, \n",
    "<br> let $s:=\\underset{r\\in[n]}{\\text{arg min}}(C^{(r)}\\neq \\emptyset)$, then <br> $p_j=\\frac{1}{|C^{(s)}|}, \\forall j\\in C^{(s)}$."
   ]
  },
  {
   "cell_type": "markdown",
   "metadata": {
    "slideshow": {
     "slide_type": "notes"
    }
   },
   "source": [
    " This rule is an instance of the concept of a \"dark horse candidate\". "
   ]
  },
  {
   "cell_type": "markdown",
   "metadata": {
    "slideshow": {
     "slide_type": "subslide"
    }
   },
   "source": [
    "### Quiz 2:\n",
    "Consider following a probability matrix:\n",
    "\\begin{equation*}\n",
    "\\mathbf{Q}= \\begin{pmatrix}\n",
    "0.6 & 0.4 & 0\\\\\n",
    "0.6 &  0.4& 0 \\\\\n",
    "0 & 0.4 & 0.6\n",
    "\\end{pmatrix}\n",
    "\\end{equation*}\n",
    "\n",
    "What are the social probabilities yield from the average rule and the modified four rules mentioned above?"
   ]
  },
  {
   "cell_type": "code",
   "execution_count": 3,
   "metadata": {
    "slideshow": {
     "slide_type": "subslide"
    }
   },
   "outputs": [],
   "source": [
    "# setting\n",
    "Q = np.array([[0.6,0.4,0.],[0.6,0.4,0.],[0.,0.4,0.6]])"
   ]
  },
  {
   "cell_type": "code",
   "execution_count": 6,
   "metadata": {
    "slideshow": {
     "slide_type": "fragment"
    }
   },
   "outputs": [
    {
     "name": "stdout",
     "output_type": "stream",
     "text": [
      "Average rule: [ 0.4  0.4  0.2]\n"
     ]
    }
   ],
   "source": [
    "# average rule \n",
    "def avg(Q):\n",
    "    m = Q.shape[0]\n",
    "    return np.sum(Q, axis=0)/m\n",
    "\n",
    "print(\"Average rule: {}\".format(avg(Q)))"
   ]
  },
  {
   "cell_type": "code",
   "execution_count": 7,
   "metadata": {
    "slideshow": {
     "slide_type": "fragment"
    }
   },
   "outputs": [
    {
     "name": "stdout",
     "output_type": "stream",
     "text": [
      "Majority rule: [ 1.  0.  0.]\n"
     ]
    }
   ],
   "source": [
    "# majority rule\n",
    "def maj(Q): \n",
    "    m = Q.shape[0]\n",
    "    n = Q.shape[1]\n",
    "    M = np.ones(n)\n",
    "    for j in range(n):\n",
    "        cl = np.delete(np.arange(n), j)\n",
    "        wins = np.array([np.sum(Q[:,j]> Q[:,s])> m/2 for s in cl])\n",
    "        if np.any(wins==False)==True:\n",
    "            M[j]=0\n",
    "    return M/np.sum(M)\n",
    "\n",
    "print(\"Majority rule: {}\".format(maj(Q)))"
   ]
  },
  {
   "cell_type": "code",
   "execution_count": null,
   "metadata": {
    "slideshow": {
     "slide_type": "subslide"
    }
   },
   "outputs": [],
   "source": [
    "# borda rule \n",
    "def borda(Q):\n",
    "    return (avg(Q) == np.max(avg(Q)))/sum(avg(Q)== np.max(avg(Q)))\n",
    "\n",
    "print(\"Borda rule: {}\".format(borda(Q)))"
   ]
  },
  {
   "cell_type": "code",
   "execution_count": null,
   "metadata": {
    "slideshow": {
     "slide_type": "fragment"
    }
   },
   "outputs": [],
   "source": [
    "# pareto rule \n",
    "def pareto(Q):\n",
    "    m = Q.shape[0]\n",
    "    n = Q.shape[1]\n",
    "    options = np.ones(n)\n",
    "    for j in range(n):\n",
    "        for s in np.delete(np.arange(n), j):\n",
    "            if (np.all((Q[:,j]>= Q[:,s]))==True) & (np.any((Q[:,j]> Q[:,s]))==True):\n",
    "                options[j]=0\n",
    "    pareto = options/np.sum(options) if np.any(options==1)==False else np.ones(n)/n\n",
    "    return pareto\n",
    "print(\"Pareto rule: {}\".format(pareto(Q)))"
   ]
  },
  {
   "cell_type": "code",
   "execution_count": null,
   "metadata": {
    "slideshow": {
     "slide_type": "subslide"
    }
   },
   "outputs": [],
   "source": [
    "# intersection rule\n",
    "def intersect(Q):\n",
    "    m = Q.shape[0]\n",
    "    n = Q.shape[1]\n",
    "    prefs = (-Q).argsort()\n",
    "    for j in range(n):\n",
    "        options = np.ones(n)\n",
    "        for i in range(m):\n",
    "            threshold = (Q[i,:])[np.where(prefs[i,:]==j)]\n",
    "            my_options = Q[i,:]>=threshold\n",
    "            options *= my_options\n",
    "        if np.any(options == 1):\n",
    "            break\n",
    "    return options/sum(options)\n",
    "\n",
    "print(\"Intersection rule: {}\".format(intersect(Q)))"
   ]
  },
  {
   "cell_type": "markdown",
   "metadata": {
    "slideshow": {
     "slide_type": "slide"
    }
   },
   "source": [
    "### Comparisons with rival rules "
   ]
  },
  {
   "cell_type": "markdown",
   "metadata": {
    "slideshow": {
     "slide_type": "fragment"
    }
   },
   "source": [
    "- The average rule is sensitive **strength of individual preference**"
   ]
  },
  {
   "cell_type": "markdown",
   "metadata": {
    "slideshow": {
     "slide_type": "fragment"
    }
   },
   "source": [
    "- None of the rival rules satisfy the **unanimity preservation** condition.\n",
    "<br><br>\n",
    "*Unanimity preservation*: if all individuals choose an alternative with\n",
    "the same probability, then so does the society."
   ]
  },
  {
   "cell_type": "markdown",
   "metadata": {
    "slideshow": {
     "slide_type": "fragment"
    }
   },
   "source": [
    "- If Q is symmetric (up to permutation of rows and columns), then by the average rule, social probablity is uniform. "
   ]
  },
  {
   "cell_type": "markdown",
   "metadata": {
    "slideshow": {
     "slide_type": "subslide"
    }
   },
   "source": [
    "- In terms of the probability that **all individuals obtain their desired outcome**, Borda rule exceeds the average rule in case of individuals with homogeneous probability vectors."
   ]
  },
  {
   "cell_type": "markdown",
   "metadata": {
    "slideshow": {
     "slide_type": "slide"
    }
   },
   "source": [
    "### Quiz 3: \n",
    "The result does not carry to inhomogeneous cases. Can you explain why?"
   ]
  },
  {
   "cell_type": "markdown",
   "metadata": {
    "slideshow": {
     "slide_type": "fragment"
    }
   },
   "source": [
    "Hint: consider following cases for two individuals \n",
    "<br><br>\n",
    "Case 1 (2 alternatives): \n",
    "\\begin{equation*}\n",
    "\\mathbf{Q_1}= \\begin{pmatrix}\n",
    "1 & 0\\\\\n",
    "1/4 &  3/4  \\\\\n",
    "\\end{pmatrix}\n",
    "\\end{equation*}\n",
    "<br>\n",
    "Case 2 (5 alternatives): \n",
    "\\begin{equation*}\n",
    "\\mathbf{Q_2}= \\begin{pmatrix}\n",
    "0.1 & 0.24 & 0.25 & 0.25 & 0.16\\\\\n",
    "0.4 & 0.25 & 0.2 & 0.15 &0 \\\\\n",
    "\\end{pmatrix}\n",
    "\\end{equation*}"
   ]
  },
  {
   "cell_type": "code",
   "execution_count": null,
   "metadata": {
    "slideshow": {
     "slide_type": "subslide"
    }
   },
   "outputs": [],
   "source": [
    "Q1 = np.array([[1.,0.],[1/4, 3/4]])\n",
    "Q2 = np.array([[0.1,0.24,0.25,0.25,0.16], [0.4,0.25,0.2,0.15,0.0]])\n",
    "\n",
    "def happy_avg(Q):\n",
    "    return np.sum(avg(Q) * np.prod(Q, axis=0))\n",
    "\n",
    "def happy_borda(Q):\n",
    "    return np.sum(borda(Q) *np.prod(Q, axis=0))\n",
    "\n",
    "print(\"In terms of the probablity of all individuals obtain their desired outcome\")\n",
    "print(\"Case 1: average rule: {:.5g}, Borda rule: {:.5g}\".format(happy_avg(Q1), happy_borda(Q1)))\n",
    "print(\"Case 2: average rule: {:.5g}, Borda rule: {:.5g}\".format(happy_avg(Q2), happy_borda(Q2)))"
   ]
  },
  {
   "cell_type": "markdown",
   "metadata": {
    "slideshow": {
     "slide_type": "slide"
    }
   },
   "source": [
    "## Some further properties of the average rule\n"
   ]
  },
  {
   "cell_type": "markdown",
   "metadata": {
    "slideshow": {
     "slide_type": "fragment"
    }
   },
   "source": [
    "#### 5. Collective rationality\n",
    "Given any set of individual preferences, the implied social preferences form a complete preordering, i.e. it satisfies **completeness**, **reflexivity**, ** transitivity**.\n"
   ]
  },
  {
   "cell_type": "markdown",
   "metadata": {
    "slideshow": {
     "slide_type": "fragment"
    }
   },
   "source": [
    "#### 6. Citizen's sovereignty\n",
    "The social probability function $f$ is surjective.\n"
   ]
  },
  {
   "cell_type": "markdown",
   "metadata": {
    "slideshow": {
     "slide_type": "subslide"
    }
   },
   "source": [
    "#### 7. Non-dictatorship\n",
    "No single individual or group of individuals smaller than the society itself can determine social probabilities independently of the other individuals.\n",
    "\n"
   ]
  },
  {
   "cell_type": "markdown",
   "metadata": {
    "slideshow": {
     "slide_type": "fragment"
    }
   },
   "source": [
    "#### 8. Symmetry \n",
    "Social probabilities are unchanged if the individuals are relabeled,\n",
    "<br>\n",
    "i.e. let $\\sigma$ be some permutation (row-wise) operator on $Q$, then $f(\\sigma(Q)) = f(Q)$, for $\\forall \\sigma$."
   ]
  },
  {
   "cell_type": "markdown",
   "metadata": {
    "slideshow": {
     "slide_type": "subslide"
    }
   },
   "source": [
    "#### 9. Unanimous preference preserving\n",
    "If all individuals prefer one alternative to another then so does society, and if all individuals are indifferent between two alternatives then so is society."
   ]
  },
  {
   "cell_type": "markdown",
   "metadata": {
    "slideshow": {
     "slide_type": "fragment"
    }
   },
   "source": [
    "#### 10. Pareto optimality \n",
    "If $A_j \\underset{pareto}{ \\succ} A_k$, then $A_j \\succ A_k$. "
   ]
  },
  {
   "cell_type": "markdown",
   "metadata": {
    "slideshow": {
     "slide_type": "subslide"
    }
   },
   "source": [
    "\n",
    "#### 11. Certainty principle \n",
    "Society chooses/rejects an alternative with certainty if and only if all individuals choose/reject it with certainty.\n"
   ]
  },
  {
   "cell_type": "markdown",
   "metadata": {
    "slideshow": {
     "slide_type": "fragment"
    }
   },
   "source": [
    "#### 12. Unamity preservation \n",
    "If all individuals choose an alternative with the same probability, then so does society."
   ]
  },
  {
   "cell_type": "markdown",
   "metadata": {
    "slideshow": {
     "slide_type": "slide"
    }
   },
   "source": [
    "Now back to the party example: "
   ]
  },
  {
   "cell_type": "markdown",
   "metadata": {
    "slideshow": {
     "slide_type": "fragment"
    }
   },
   "source": [
    "Imagine there is a housewarming party tonight. You all are invited.  Now you planned to buy a three-layered cake to bring to the party. You have three options: **strawberry** cake, **vanilla** cake and **chocolate** cake. \n",
    "<br><br> \n",
    "**How woud you choose?**"
   ]
  },
  {
   "cell_type": "code",
   "execution_count": null,
   "metadata": {
    "slideshow": {
     "slide_type": "subslide"
    }
   },
   "outputs": [],
   "source": [
    "Q_cake = np.array([0.4,0.4,0.2])\n",
    "options_cake = [\"strawberry\", \"vanilla\", \"chocolate\"]\n",
    "win = np.random.choice(options_cake, 1, avg(Q_cake))\n",
    "print(\"winner cake: {}!\".format(win[0]))\n",
    "   \n",
    "show_cake(win[0])"
   ]
  },
  {
   "cell_type": "markdown",
   "metadata": {
    "slideshow": {
     "slide_type": "slide"
    }
   },
   "source": [
    "# Thank you for your attention! "
   ]
  }
 ],
 "metadata": {
  "celltoolbar": "Slideshow",
  "kernelspec": {
   "display_name": "Python 3",
   "language": "python",
   "name": "python3"
  },
  "language_info": {
   "codemirror_mode": {
    "name": "ipython",
    "version": 3
   },
   "file_extension": ".py",
   "mimetype": "text/x-python",
   "name": "python",
   "nbconvert_exporter": "python",
   "pygments_lexer": "ipython3",
   "version": "3.6.2"
  },
  "rise": {
   "autolaunch": true
  }
 },
 "nbformat": 4,
 "nbformat_minor": 2
}
